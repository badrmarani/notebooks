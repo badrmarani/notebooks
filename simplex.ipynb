{
 "cells": [
  {
   "cell_type": "code",
   "execution_count": 1,
   "metadata": {},
   "outputs": [],
   "source": [
    "import numpy as np\n"
   ]
  },
  {
   "cell_type": "code",
   "execution_count": 37,
   "metadata": {},
   "outputs": [],
   "source": [
    "def simplex(A, b, c, initial_pts, minimization=True):\n",
    "    if not minimization:\n",
    "        c = -c\n",
    "    ibv = initial_pts\n",
    "    vars = np.arange(0, c.shape[0], 1)\n",
    "    while True:\n",
    "        nbv = np.setdiff1d(vars, ibv)\n",
    "        B = A[..., ibv]\n",
    "        E = A[..., nbv]\n",
    "        cb = c[ibv]\n",
    "        ce = c[nbv]\n",
    "\n",
    "        try:\n",
    "            Binv = np.linalg.inv(B)\n",
    "        except:\n",
    "            raise np.linalg.LinAlgError \n",
    "        bbar = Binv.dot(b)\n",
    "        ce_bar = ce.T - cb.T.dot(Binv).dot(E)\n",
    "\n",
    "        if np.min(ce_bar) >= 0:\n",
    "            print(\"optimal solution!\")\n",
    "            print(\"Variables =\", ibv)\n",
    "            print(\"Value     =\", bbar)\n",
    "\n",
    "            return ibv, bbar\n",
    "        else:\n",
    "            l = np.argmin(ce_bar)\n",
    "\n",
    "        P = Binv.dot(A[..., nbv[l]])\n",
    "        if np.max(P) <= 0:\n",
    "            print(\"unbounded solution!\")\n",
    "            return None, None\n",
    "        else:\n",
    "            ratio = bbar / P\n",
    "            \n",
    "            invalid_pos = P < 0 + np.isnan(P)\n",
    "            ratio[..., invalid_pos] = np.inf\n",
    "\n",
    "            xl = np.min(ratio)\n",
    "            j = np.argmin(ratio)\n",
    "\n",
    "            ibv[j] = nbv[l]\n"
   ]
  },
  {
   "cell_type": "code",
   "execution_count": 38,
   "metadata": {},
   "outputs": [],
   "source": [
    "A = np.array([\n",
    "    [2, 3, 1, 1, 0],\n",
    "    [1, 4, 3, 0, 1],\n",
    "])\n",
    "b = np.array([10, 15])\n",
    "c = np.array([-6, -4, -5, 0, 0])\n",
    "ibv = np.array([3, 4])\n"
   ]
  },
  {
   "cell_type": "code",
   "execution_count": 40,
   "metadata": {},
   "outputs": [
    {
     "name": "stdout",
     "output_type": "stream",
     "text": [
      "optimal solution!\n",
      "Variables = [0 2]\n",
      "Value     = [3. 4.]\n"
     ]
    }
   ],
   "source": [
    "solution = simplex(A, b, c, ibv)\n"
   ]
  }
 ],
 "metadata": {
  "kernelspec": {
   "display_name": "base",
   "language": "python",
   "name": "python3"
  },
  "language_info": {
   "codemirror_mode": {
    "name": "ipython",
    "version": 3
   },
   "file_extension": ".py",
   "mimetype": "text/x-python",
   "name": "python",
   "nbconvert_exporter": "python",
   "pygments_lexer": "ipython3",
   "version": "3.10.9"
  },
  "orig_nbformat": 4
 },
 "nbformat": 4,
 "nbformat_minor": 2
}
